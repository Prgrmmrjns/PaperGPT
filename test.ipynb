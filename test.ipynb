{
 "cells": [
  {
   "cell_type": "code",
   "execution_count": 2,
   "metadata": {},
   "outputs": [
    {
     "ename": "HTTPError",
     "evalue": "400 Client Error: Bad Request for url: https://api.notion.com/v1/databases/a69b3f1be7ab4a72b9ea02407f1a47ec/query",
     "output_type": "error",
     "traceback": [
      "\u001b[1;31m---------------------------------------------------------------------------\u001b[0m",
      "\u001b[1;31mHTTPError\u001b[0m                                 Traceback (most recent call last)",
      "Cell \u001b[1;32mIn[2], line 25\u001b[0m\n\u001b[0;32m     22\u001b[0m database_id \u001b[39m=\u001b[39m \u001b[39m\"\u001b[39m\u001b[39ma69b3f1be7ab4a72b9ea02407f1a47ec\u001b[39m\u001b[39m\"\u001b[39m\n\u001b[0;32m     23\u001b[0m property_name \u001b[39m=\u001b[39m \u001b[39m\"\u001b[39m\u001b[39mKey\u001b[39m\u001b[39m\"\u001b[39m\n\u001b[1;32m---> 25\u001b[0m data \u001b[39m=\u001b[39m get_database_data(api_key, database_id, property_name)\n\u001b[0;32m     26\u001b[0m \u001b[39mprint\u001b[39m(data)\n",
      "Cell \u001b[1;32mIn[2], line 12\u001b[0m, in \u001b[0;36mget_database_data\u001b[1;34m(api_key, database_id, property_name)\u001b[0m\n\u001b[0;32m     10\u001b[0m url \u001b[39m=\u001b[39m \u001b[39mf\u001b[39m\u001b[39m\"\u001b[39m\u001b[39mhttps://api.notion.com/v1/databases/\u001b[39m\u001b[39m{\u001b[39;00mdatabase_id\u001b[39m}\u001b[39;00m\u001b[39m/query\u001b[39m\u001b[39m\"\u001b[39m\n\u001b[0;32m     11\u001b[0m response \u001b[39m=\u001b[39m requests\u001b[39m.\u001b[39mpost(url, headers\u001b[39m=\u001b[39mheaders, json\u001b[39m=\u001b[39m{})\n\u001b[1;32m---> 12\u001b[0m response\u001b[39m.\u001b[39;49mraise_for_status()\n\u001b[0;32m     13\u001b[0m data \u001b[39m=\u001b[39m response\u001b[39m.\u001b[39mjson()\n\u001b[0;32m     15\u001b[0m filtered_data \u001b[39m=\u001b[39m []\n",
      "File \u001b[1;32mc:\\Users\\jwolber\\AppData\\Local\\anaconda3\\envs\\Python311\\Lib\\site-packages\\requests\\models.py:1021\u001b[0m, in \u001b[0;36mResponse.raise_for_status\u001b[1;34m(self)\u001b[0m\n\u001b[0;32m   1016\u001b[0m     http_error_msg \u001b[39m=\u001b[39m (\n\u001b[0;32m   1017\u001b[0m         \u001b[39mf\u001b[39m\u001b[39m\"\u001b[39m\u001b[39m{\u001b[39;00m\u001b[39mself\u001b[39m\u001b[39m.\u001b[39mstatus_code\u001b[39m}\u001b[39;00m\u001b[39m Server Error: \u001b[39m\u001b[39m{\u001b[39;00mreason\u001b[39m}\u001b[39;00m\u001b[39m for url: \u001b[39m\u001b[39m{\u001b[39;00m\u001b[39mself\u001b[39m\u001b[39m.\u001b[39murl\u001b[39m}\u001b[39;00m\u001b[39m\"\u001b[39m\n\u001b[0;32m   1018\u001b[0m     )\n\u001b[0;32m   1020\u001b[0m \u001b[39mif\u001b[39;00m http_error_msg:\n\u001b[1;32m-> 1021\u001b[0m     \u001b[39mraise\u001b[39;00m HTTPError(http_error_msg, response\u001b[39m=\u001b[39m\u001b[39mself\u001b[39m)\n",
      "\u001b[1;31mHTTPError\u001b[0m: 400 Client Error: Bad Request for url: https://api.notion.com/v1/databases/a69b3f1be7ab4a72b9ea02407f1a47ec/query"
     ]
    }
   ],
   "source": [
    "import requests\n",
    "\n",
    "def get_database_data(api_key, database_id, property_name):\n",
    "    headers = {\n",
    "        \"Authorization\": f\"Bearer {api_key}\",\n",
    "        \"Content-Type\": \"application/json\",\n",
    "        \"Notion-Version\": \"2022-05-13\"\n",
    "    }\n",
    "\n",
    "    url = f\"https://api.notion.com/v1/databases/{database_id}/query\"\n",
    "    response = requests.post(url, headers=headers, json={})\n",
    "    response.raise_for_status()\n",
    "    data = response.json()\n",
    "\n",
    "    filtered_data = []\n",
    "    for item in data['results']:\n",
    "        filtered_data.append(item['properties'][property_name]['text'][0]['plain_text'])\n",
    "\n",
    "    return filtered_data\n",
    "\n",
    "api_key = \"secret_ACWipYLLkakKzVBGixKUEsaLcQjP8C1xMLuUAIGMztH\"\n",
    "database_id = \"a69b3f1be7ab4a72b9ea02407f1a47ec\"\n",
    "property_name = \"Key\"\n",
    "\n",
    "data = get_database_data(api_key, database_id, property_name)\n",
    "print(data)\n"
   ]
  }
 ],
 "metadata": {
  "kernelspec": {
   "display_name": "Python311",
   "language": "python",
   "name": "python3"
  },
  "language_info": {
   "codemirror_mode": {
    "name": "ipython",
    "version": 3
   },
   "file_extension": ".py",
   "mimetype": "text/x-python",
   "name": "python",
   "nbconvert_exporter": "python",
   "pygments_lexer": "ipython3",
   "version": "3.11.2"
  },
  "orig_nbformat": 4
 },
 "nbformat": 4,
 "nbformat_minor": 2
}
